{
  "nbformat": 4,
  "nbformat_minor": 0,
  "metadata": {
    "colab": {
      "provenance": [],
      "collapsed_sections": []
    },
    "kernelspec": {
      "name": "python3",
      "display_name": "Python 3"
    },
    "language_info": {
      "name": "python"
    }
  },
  "cells": [
    {
      "cell_type": "markdown",
      "source": [
        "#Game : Tic Tac Toe#\n",
        "\n",
        "\n",
        "\n"
      ],
      "metadata": {
        "id": "ydXBoUfFnPU3"
      }
    },
    {
      "cell_type": "markdown",
      "source": [
        "Step 1: Setting  up the board as a list, where each index 1-9 corresponds to the position, so you get a 3 by 3 board representation."
      ],
      "metadata": {
        "id": "j5TvLYdDndi7"
      }
    },
    {
      "cell_type": "code",
      "source": [
        "from IPython.display import clear_output\n",
        "\n",
        "def display_board(board):\n",
        "  clear_output()\n",
        "    \n",
        "  print([board[1]+' | ' + board[2]+' | '+board[3]])\n",
        "  print(['---------'])\n",
        "  print([board[4]+' | ' + board[5]+' | '+board[6]])\n",
        "  print(['---------'])\n",
        "  print([board[7]+' | ' + board[8]+' | '+board[9]])"
      ],
      "metadata": {
        "id": "sdSmUW8Gnwq7"
      },
      "execution_count": 1,
      "outputs": []
    },
    {
      "cell_type": "markdown",
      "source": [
        "Step 2: Function that can takes player input and assign their marker as 'X' or 'O'. "
      ],
      "metadata": {
        "id": "kW6r_X91oIXu"
      }
    },
    {
      "cell_type": "code",
      "source": [
        "def player_input():\n",
        "    player1 = ''\n",
        "    while player1 not in ['X' ,'O']:\n",
        "      player1 = input('Player 1 marker please select X or O :  ').upper()\n",
        "      if player1 not in ['X' ,'O']:\n",
        "        print('you have made wrong selection')\n",
        "        clear_output()\n",
        "        \n",
        "      if player1 == 'X':\n",
        "        player2 = 'O'\n",
        "      else :\n",
        "        player2 = 'X'\n",
        "    return(player1,player2)"
      ],
      "metadata": {
        "id": "kOCUe1iLoWv8"
      },
      "execution_count": 2,
      "outputs": []
    },
    {
      "cell_type": "markdown",
      "source": [
        "Step 3: Function that takes in the board list object, a marker ('X' or 'O'), and a desired position (number 1-9) and assigns it to the board."
      ],
      "metadata": {
        "id": "tBx2mL38obdD"
      }
    },
    {
      "cell_type": "code",
      "source": [
        "def place_marker(board, marker, position):\n",
        "    \n",
        "    board[position] = marker"
      ],
      "metadata": {
        "id": "Hfb9gQNVpVOR"
      },
      "execution_count": 3,
      "outputs": []
    },
    {
      "cell_type": "markdown",
      "source": [
        "Step 4: Function that takes in a board and a mark (X or O) and then checks the conditions of the game "
      ],
      "metadata": {
        "id": "tpYlz3TkqLl2"
      }
    },
    {
      "cell_type": "code",
      "source": [
        "def win_check(board, mark):\n",
        "    \n",
        "    return ((board[7] == mark and board[8] == mark and board[9] == mark) or # across the top\n",
        "    (board[4] == mark and board[5] == mark and board[6] == mark) or # across the middle\n",
        "    (board[1] == mark and board[2] == mark and board[3] == mark) or # across the bottom\n",
        "    (board[7] == mark and board[4] == mark and board[1] == mark) or # down the middle\n",
        "    (board[8] == mark and board[5] == mark and board[2] == mark) or # down the middle\n",
        "    (board[9] == mark and board[6] == mark and board[3] == mark) or # down the right side\n",
        "    (board[7] == mark and board[5] == mark and board[3] == mark) or # diagonal\n",
        "    (board[9] == mark and board[5] == mark and board[1] == mark)) # diagonal\n",
        "  "
      ],
      "metadata": {
        "id": "W9ASwUV0sSoO"
      },
      "execution_count": 4,
      "outputs": []
    },
    {
      "cell_type": "markdown",
      "source": [
        "Step 5: Function that decides which player should go first randomly"
      ],
      "metadata": {
        "id": "VqiBFoQcsXE1"
      }
    },
    {
      "cell_type": "code",
      "source": [
        "import random\n",
        "\n",
        "def choose_first():\n",
        "    player_choose = random.randint(0,1)\n",
        "    if player_choose == 0 :\n",
        "      return 'Player1'\n",
        "    else: \n",
        "      return 'Player2'"
      ],
      "metadata": {
        "id": "WTWbDgOosj-J"
      },
      "execution_count": 5,
      "outputs": []
    },
    {
      "cell_type": "markdown",
      "source": [
        "Step 6: Function that returns whether a space on the board is freely available"
      ],
      "metadata": {
        "id": "keVudn_tsnSo"
      }
    },
    {
      "cell_type": "code",
      "source": [
        "def space_check(board, position):\n",
        "\n",
        "  return (board[position] == ' ')"
      ],
      "metadata": {
        "id": "qat9gnEqs0jb"
      },
      "execution_count": 6,
      "outputs": []
    },
    {
      "cell_type": "markdown",
      "source": [
        "Step 7: Function to check whether the board is full "
      ],
      "metadata": {
        "id": "7lz0H2Gos4NP"
      }
    },
    {
      "cell_type": "code",
      "source": [
        "def full_board_check(board):\n",
        "\n",
        "  for i in range(1,10):\n",
        "    if space_check(board,i):\n",
        "      return False\n",
        "  return True"
      ],
      "metadata": {
        "id": "T1OpQ_setHJv"
      },
      "execution_count": 7,
      "outputs": []
    },
    {
      "cell_type": "markdown",
      "source": [
        "Step 8: Function to take players next position and checks whether the position is free "
      ],
      "metadata": {
        "id": "oozfS-2ptKo0"
      }
    },
    {
      "cell_type": "code",
      "source": [
        "def player_choice(board):\n",
        "    position = 0\n",
        "    while position not in [1,2,3,4,5,6,7,8,9] or not space_check(board, position):\n",
        "      position = int(input('please enter the position from 1 to 9: '))\n",
        "    return position"
      ],
      "metadata": {
        "id": "VE6SEQvft-Fn"
      },
      "execution_count": 8,
      "outputs": []
    },
    {
      "cell_type": "markdown",
      "source": [
        "Step 9: function that asks the player if they want to play again or end the game"
      ],
      "metadata": {
        "id": "3JoR570euA5h"
      }
    },
    {
      "cell_type": "code",
      "source": [
        "def replay():\n",
        "    \n",
        "    check = input('want to play again Y or N:').upper()\n",
        "    if check == 'Y':\n",
        "      return True\n",
        "    else:\n",
        "      return False"
      ],
      "metadata": {
        "id": "Flhdo0VovEdH"
      },
      "execution_count": 9,
      "outputs": []
    },
    {
      "cell_type": "markdown",
      "source": [
        "Step 10: Run the Game"
      ],
      "metadata": {
        "id": "HKboeGPFvF7L"
      }
    },
    {
      "cell_type": "code",
      "source": [
        "print('Welcome to the Game: Tic Tac Toe!')\n",
        "\n",
        "while True:\n",
        "  the_board = [' ']*10\n",
        "  player1_marker, player2_marker = player_input()\n",
        "  print(f'{player1_marker} is Player1 marker')\n",
        "  print(f'{player2_marker} is Player2 marker')\n",
        "  turn = choose_first()\n",
        "  print(f'{turn} will go first with ')\n",
        "  play = input('are you ready Y or N: ').upper()\n",
        "  if play == 'Y':\n",
        "    game_on = True\n",
        "  else:\n",
        "    game_on = False\n",
        "  while game_on:\n",
        "    if turn == 'Player1':\n",
        "      display_board(the_board)\n",
        "      position = player_choice(the_board)\n",
        "      place_marker(the_board,player1_marker,position)\n",
        "      if win_check(the_board,player1_marker):\n",
        "        display_board(the_board)\n",
        "        print('player 1 won')\n",
        "        game_on = False\n",
        "      else:\n",
        "        if full_board_check(the_board):\n",
        "          display_board(the_board)\n",
        "          print('Game draw')\n",
        "          game_on = False\n",
        "        else:\n",
        "          turn = 'Player2'\n",
        "    else :\n",
        "        display_board(the_board)\n",
        "        position = player_choice(the_board)\n",
        "        place_marker(the_board,player2_marker,position)\n",
        "        if win_check(the_board,player2_marker):\n",
        "          display_board(the_board)\n",
        "          print('player 2 won')\n",
        "          game_on = False\n",
        "        else:\n",
        "          if full_board_check(the_board):\n",
        "            display_board(the_board)\n",
        "            print('Game draw')\n",
        "            game_on = False\n",
        "          else:\n",
        "            turn = 'Player1'\n",
        "\n",
        "  if not replay():\n",
        "    break\n"
      ],
      "metadata": {
        "colab": {
          "base_uri": "https://localhost:8080/"
        },
        "id": "9zxNqC-9vd52",
        "outputId": "0abd50de-3b41-4ce9-edf6-c7e8cc45222e"
      },
      "execution_count": 10,
      "outputs": [
        {
          "name": "stdout",
          "output_type": "stream",
          "text": [
            "['O | O | O']\n",
            "['---------']\n",
            "['X | X |  ']\n",
            "['---------']\n",
            "['  |   |  ']\n",
            "player 1 won\n",
            "want to play again Y or N:n\n"
          ]
        }
      ]
    },
    {
      "cell_type": "code",
      "source": [],
      "metadata": {
        "id": "DlBOKat-EYRK"
      },
      "execution_count": 10,
      "outputs": []
    }
  ]
}